{
 "cells": [
  {
   "cell_type": "markdown",
   "metadata": {},
   "source": [
    "보물상자 비밀번호<br />\n",
    "https://www.swexpertacademy.com/main/code/problem/problemDetail.do?contestProbId=AWXRUN9KfZ8DFAUo"
   ]
  },
  {
   "cell_type": "code",
   "execution_count": null,
   "metadata": {},
   "outputs": [],
   "source": [
    "T = int(input())\n",
    "for t in range(1, T+1):\n",
    "    N, K = map(int, input().split())\n",
    "    number = input()\n",
    "    numbers = list()\n",
    "    for i in range(int(N/4)):\n",
    "        for j in range(4):\n",
    "            hex = \"\"\n",
    "            for k in range(int(N/4)):\n",
    "                hex += number[(i+int(N/4)*j+k)%N]\n",
    "            numbers.append(int(hex, 16))\n",
    "            \n",
    "    numbers = sorted(list(set(numbers)))\n",
    "    K = len(numbers)-K\n",
    "    for i in range(N):\n",
    "        if (i == K):\n",
    "            print(\"#%d %d\"%(t, numbers[i]))\n",
    "            break"
   ]
  }
 ],
 "metadata": {
  "kernelspec": {
   "display_name": "Python 3",
   "language": "python",
   "name": "python3"
  },
  "language_info": {
   "codemirror_mode": {
    "name": "ipython",
    "version": 3
   },
   "file_extension": ".py",
   "mimetype": "text/x-python",
   "name": "python",
   "nbconvert_exporter": "python",
   "pygments_lexer": "ipython3",
   "version": "3.6.8"
  }
 },
 "nbformat": 4,
 "nbformat_minor": 2
}
